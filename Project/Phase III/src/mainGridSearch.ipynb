{
 "cells": [
  {
   "cell_type": "code",
   "execution_count": 1,
   "metadata": {},
   "outputs": [
    {
     "name": "stderr",
     "output_type": "stream",
     "text": [
      "2023-01-07 22:11:42.945385: I tensorflow/core/platform/cpu_feature_guard.cc:193] This TensorFlow binary is optimized with oneAPI Deep Neural Network Library (oneDNN) to use the following CPU instructions in performance-critical operations:  AVX2 FMA\n",
      "To enable them in other operations, rebuild TensorFlow with the appropriate compiler flags.\n",
      "2023-01-07 22:11:45.305851: W tensorflow/compiler/xla/stream_executor/platform/default/dso_loader.cc:64] Could not load dynamic library 'libnvinfer.so.7'; dlerror: libnvinfer.so.7: cannot open shared object file: No such file or directory\n",
      "2023-01-07 22:11:45.306124: W tensorflow/compiler/xla/stream_executor/platform/default/dso_loader.cc:64] Could not load dynamic library 'libnvinfer_plugin.so.7'; dlerror: libnvinfer_plugin.so.7: cannot open shared object file: No such file or directory\n",
      "2023-01-07 22:11:45.306142: W tensorflow/compiler/tf2tensorrt/utils/py_utils.cc:38] TF-TRT Warning: Cannot dlopen some TensorRT libraries. If you would like to use Nvidia GPU with TensorRT, please make sure the missing libraries mentioned above are installed properly.\n"
     ]
    },
    {
     "name": "stdout",
     "output_type": "stream",
     "text": [
      "2.11.0\n"
     ]
    },
    {
     "data": {
      "text/html": [
       "<div>\n",
       "<style scoped>\n",
       "    .dataframe tbody tr th:only-of-type {\n",
       "        vertical-align: middle;\n",
       "    }\n",
       "\n",
       "    .dataframe tbody tr th {\n",
       "        vertical-align: top;\n",
       "    }\n",
       "\n",
       "    .dataframe thead th {\n",
       "        text-align: right;\n",
       "    }\n",
       "</style>\n",
       "<table border=\"1\" class=\"dataframe\">\n",
       "  <thead>\n",
       "    <tr style=\"text-align: right;\">\n",
       "      <th></th>\n",
       "      <th>Open Time</th>\n",
       "      <th>Open</th>\n",
       "      <th>High</th>\n",
       "      <th>Low</th>\n",
       "      <th>Close</th>\n",
       "      <th>Close Volume</th>\n",
       "      <th>Time</th>\n",
       "      <th>Quote asset volume</th>\n",
       "      <th>Number of trades</th>\n",
       "      <th>Taker buy base asset volume</th>\n",
       "      <th>Taker buy quote asset volume</th>\n",
       "    </tr>\n",
       "  </thead>\n",
       "  <tbody>\n",
       "    <tr>\n",
       "      <th>188312</th>\n",
       "      <td>1.620794e+12</td>\n",
       "      <td>57517.42</td>\n",
       "      <td>57526.28</td>\n",
       "      <td>57485.00</td>\n",
       "      <td>57485.07</td>\n",
       "      <td>42.575735</td>\n",
       "      <td>1.620794e+12</td>\n",
       "      <td>2.448258e+06</td>\n",
       "      <td>1195.0</td>\n",
       "      <td>15.319691</td>\n",
       "      <td>880913.090845</td>\n",
       "    </tr>\n",
       "    <tr>\n",
       "      <th>188313</th>\n",
       "      <td>1.620794e+12</td>\n",
       "      <td>57485.07</td>\n",
       "      <td>57496.42</td>\n",
       "      <td>57466.75</td>\n",
       "      <td>57481.49</td>\n",
       "      <td>34.205467</td>\n",
       "      <td>1.620794e+12</td>\n",
       "      <td>1.966194e+06</td>\n",
       "      <td>1096.0</td>\n",
       "      <td>15.971891</td>\n",
       "      <td>918058.816162</td>\n",
       "    </tr>\n",
       "    <tr>\n",
       "      <th>188314</th>\n",
       "      <td>1.620794e+12</td>\n",
       "      <td>57477.18</td>\n",
       "      <td>57509.99</td>\n",
       "      <td>57458.18</td>\n",
       "      <td>57470.00</td>\n",
       "      <td>30.211789</td>\n",
       "      <td>1.620794e+12</td>\n",
       "      <td>1.736514e+06</td>\n",
       "      <td>955.0</td>\n",
       "      <td>13.054229</td>\n",
       "      <td>750364.577319</td>\n",
       "    </tr>\n",
       "    <tr>\n",
       "      <th>188315</th>\n",
       "      <td>1.620794e+12</td>\n",
       "      <td>57470.00</td>\n",
       "      <td>57470.01</td>\n",
       "      <td>57400.00</td>\n",
       "      <td>57450.90</td>\n",
       "      <td>45.354728</td>\n",
       "      <td>1.620794e+12</td>\n",
       "      <td>2.605080e+06</td>\n",
       "      <td>1559.0</td>\n",
       "      <td>12.615628</td>\n",
       "      <td>724559.233035</td>\n",
       "    </tr>\n",
       "    <tr>\n",
       "      <th>188316</th>\n",
       "      <td>1.620794e+12</td>\n",
       "      <td>57450.89</td>\n",
       "      <td>57475.66</td>\n",
       "      <td>57435.51</td>\n",
       "      <td>57450.19</td>\n",
       "      <td>14.168318</td>\n",
       "      <td>1.620794e+12</td>\n",
       "      <td>8.140594e+05</td>\n",
       "      <td>730.0</td>\n",
       "      <td>7.247751</td>\n",
       "      <td>416412.022206</td>\n",
       "    </tr>\n",
       "  </tbody>\n",
       "</table>\n",
       "</div>"
      ],
      "text/plain": [
       "           Open Time      Open      High       Low     Close  Close Volume  \\\n",
       "188312  1.620794e+12  57517.42  57526.28  57485.00  57485.07     42.575735   \n",
       "188313  1.620794e+12  57485.07  57496.42  57466.75  57481.49     34.205467   \n",
       "188314  1.620794e+12  57477.18  57509.99  57458.18  57470.00     30.211789   \n",
       "188315  1.620794e+12  57470.00  57470.01  57400.00  57450.90     45.354728   \n",
       "188316  1.620794e+12  57450.89  57475.66  57435.51  57450.19     14.168318   \n",
       "\n",
       "                Time  Quote asset volume  Number of trades  \\\n",
       "188312  1.620794e+12        2.448258e+06            1195.0   \n",
       "188313  1.620794e+12        1.966194e+06            1096.0   \n",
       "188314  1.620794e+12        1.736514e+06             955.0   \n",
       "188315  1.620794e+12        2.605080e+06            1559.0   \n",
       "188316  1.620794e+12        8.140594e+05             730.0   \n",
       "\n",
       "        Taker buy base asset volume  Taker buy quote asset volume  \n",
       "188312                    15.319691                 880913.090845  \n",
       "188313                    15.971891                 918058.816162  \n",
       "188314                    13.054229                 750364.577319  \n",
       "188315                    12.615628                 724559.233035  \n",
       "188316                     7.247751                 416412.022206  "
      ]
     },
     "execution_count": 1,
     "metadata": {},
     "output_type": "execute_result"
    }
   ],
   "source": [
    "# Import libraries and modules\n",
    "import csv  # for reading and writing CSV files\n",
    "import matplotlib.pyplot as plt  # for creating plots and charts\n",
    "import numpy as np  # for numerical computing with Python\n",
    "import pandas as pd  # for data manipulation and analysis\n",
    "import pathlib  # for interacting with file paths in a cross-platform manner\n",
    "import seaborn as sns  # for statistical data visualization\n",
    "import tensorflow as tf  # for machine learning and deep learning\n",
    "from keras.layers import Dense, Activation  # for building deep learning models in TensorFlow\n",
    "from keras.models import Sequential  # for building deep learning models in TensorFlow\n",
    "from keras.optimizers import Adam, RMSprop  # for building deep learning models in TensorFlow\n",
    "from keras.callbacks import History\n",
    "from sklearn.model_selection import train_test_split, GridSearchCV  # for model selection and evaluation\n",
    "from sklearn.preprocessing import MinMaxScaler  # for preprocessing data\n",
    "from tensorflow import keras  # for building deep learning models in TensorFlow\n",
    "from tensorflow.keras import layers  # for building deep learning models in TensorFlow\n",
    "from keras.wrappers.scikit_learn import KerasRegressor\n",
    "\n",
    "# Print TensorFlow version\n",
    "print(tf.__version__)\n",
    "\n",
    "# Define column names for the CSV file\n",
    "column_names = ['Open Time','Open','High','Low','Close',\n",
    "                'Close Volume', 'Time', 'Quote asset volume',\n",
    "               'Number of trades', 'Taker buy base asset volume', 'Taker buy quote asset volume']\n",
    "               \n",
    "\n",
    "# Read in the CSV file using pandas\n",
    "raw_dataset = pd.read_csv(\"main.csv\", names=column_names,\n",
    "                      na_values = \"?\", comment='\\t', dtype='float',\n",
    "                      sep=\",\", skipinitialspace=True)\n",
    "\n",
    "# Copy the data from the raw dataset to a new dataframe\n",
    "dataset = raw_dataset.copy()\n",
    "\n",
    "# Print the last few rows of the dataset\n",
    "dataset.tail()"
   ]
  },
  {
   "cell_type": "code",
   "execution_count": null,
   "metadata": {},
   "outputs": [],
   "source": [
    "dataset.pop(\"Open Time\")\n",
    "dataset.pop(\"Time\")\n",
    "# Randomly select 80% of the rows from the dataset and store them in a new dataframe\n",
    "train_dataset = dataset.sample(frac=0.8,random_state=0)\n",
    "\n",
    "# Remove the rows in the training dataset from the original dataset, leaving the remaining rows in a new dataframe\n",
    "test_dataset = dataset.drop(train_dataset.index)"
   ]
  },
  {
   "cell_type": "code",
   "execution_count": null,
   "metadata": {},
   "outputs": [],
   "source": [
    "# Calculate statistical summary of the training dataset\n",
    "train_stats = train_dataset.describe()\n",
    "\n",
    "# Remove the \"Close\" column from the statistical summary\n",
    "train_stats.pop(\"Close\")\n",
    "\n",
    "# Transpose the statistical summary so that it's in a more useful shape\n",
    "train_stats = train_stats.transpose()"
   ]
  },
  {
   "cell_type": "code",
   "execution_count": null,
   "metadata": {},
   "outputs": [],
   "source": [
    "# Remove the \"Close\" column from the training dataset and store it in a new dataframe\n",
    "train_labels = train_dataset.pop('Close')\n",
    "\n",
    "# Remove the \"Close\" column from the testing dataset and store it in a new dataframe\n",
    "test_labels = test_dataset.pop('Close')"
   ]
  },
  {
   "cell_type": "code",
   "execution_count": null,
   "metadata": {},
   "outputs": [],
   "source": [
    "scaler = MinMaxScaler(feature_range=(0, 1))\n",
    "scaler.fit(train_dataset)\n",
    "normed_train_dataset = scaler.transform(train_dataset)\n",
    "normed_test_dataset = scaler.transform(test_dataset)"
   ]
  },
  {
   "cell_type": "code",
   "execution_count": null,
   "metadata": {},
   "outputs": [],
   "source": [
    "print(normed_train_dataset.shape)\n",
    "print(train_labels.shape)"
   ]
  },
  {
   "cell_type": "code",
   "execution_count": null,
   "metadata": {},
   "outputs": [],
   "source": [
    "print(train_labels)"
   ]
  },
  {
   "cell_type": "code",
   "execution_count": null,
   "metadata": {},
   "outputs": [],
   "source": [
    "parameters = {\n",
    "    'hidden_layer_sizes': [(128,), (32,), (32,32), (128,128)],\n",
    "    'activation': ['tanh','relu','softmax'],\n",
    "}"
   ]
  },
  {
   "cell_type": "code",
   "execution_count": null,
   "metadata": {},
   "outputs": [],
   "source": [
    "gs = GridSearchCV(MLPRegressor(solver='adam'),param_grid=parameters,scoring=\"neg_mean_squared_error\",n_jobs=-1,cv=5)\n",
    "gs.fit(normed_train_dataset,train_labels)"
   ]
  },
  {
   "cell_type": "code",
   "execution_count": null,
   "metadata": {},
   "outputs": [],
   "source": [
    "print(\"GridSearch:\\n\")\n",
    "print(\"Best estimator:\",gs.best_estimator_)\n",
    "print(\"Best parameters:\",gs.best_params_)\n",
    "print(\"Score:\",gs.best_score_)"
   ]
  },
  {
   "cell_type": "code",
   "execution_count": 2,
   "metadata": {},
   "outputs": [],
   "source": [
    "def f(x):\n",
    "    n_particles = x.shape[0]\n",
    "    j = [objective(x[i])for i in range(n_particles)]\n",
    "    return np.array(j)\n",
    "\n",
    "def objective(neuronios, act_h):\n",
    "\n",
    "    # Build the deep learning model with the fixed hyperparameters\n",
    "    model = keras.Sequential([\n",
    "        layers.Dense(neuronios, activation=act_h, input_shape=[8]),\n",
    "        layers.Dense(neuronios, activation=act_h),\n",
    "        layers.Dense(1,activation=act_h)\n",
    "    ])\n",
    "\n",
    "    # Compile the model\n",
    "    optimizer = Adam(0.001)\n",
    "\n",
    "    model.compile(loss='mse',optimizer=optimizer,metrics=['mae', 'mse'])\n",
    "    # Train the model on the training data and labels\n",
    "    model.fit(normed_train_dataset, train_labels, epochs=30)\n",
    "    # Evaluate the model on the test data and labels\n",
    "    score = model.evaluate(normed_test_dataset, test_labels, verbose=0)[0]\n",
    "    return -score"
   ]
  },
  {
   "cell_type": "code",
   "execution_count": 3,
   "metadata": {},
   "outputs": [
    {
     "ename": "NameError",
     "evalue": "name 'gs' is not defined",
     "output_type": "error",
     "traceback": [
      "\u001b[0;31m---------------------------------------------------------------------------\u001b[0m",
      "\u001b[0;31mNameError\u001b[0m                                 Traceback (most recent call last)",
      "Cell \u001b[0;32mIn[3], line 2\u001b[0m\n\u001b[1;32m      1\u001b[0m \u001b[39m# Get the best hyperparameters from grid search\u001b[39;00m\n\u001b[0;32m----> 2\u001b[0m best_params \u001b[39m=\u001b[39m gs\u001b[39m.\u001b[39mbest_params_\n\u001b[1;32m      4\u001b[0m \u001b[39m# Set the fixed hyperparameters\u001b[39;00m\n\u001b[1;32m      5\u001b[0m neuronios \u001b[39m=\u001b[39m best_params[\u001b[39m'\u001b[39m\u001b[39mhidden_layer_sizes\u001b[39m\u001b[39m'\u001b[39m][\u001b[39m0\u001b[39m]\n",
      "\u001b[0;31mNameError\u001b[0m: name 'gs' is not defined"
     ]
    }
   ],
   "source": [
    "# Get the best hyperparameters from grid search\n",
    "best_params = gs.best_params_\n",
    "\n",
    "# Set the fixed hyperparameters\n",
    "neuronios = best_params['hidden_layer_sizes'][0]\n",
    "act_h = best_params['activation']\n",
    "\n",
    "# Create the PSO optimizer\n",
    "options = {'c1': 0.5, 'c2': 0.3, 'w':1.5}\n",
    "optimizer = ps.single.GlobalBestPSO(n_particles=10, dimensions=2, options=options)\n",
    "\n",
    "# Optimize the model's parameters using the fixed hyperparameters\n",
    "xopt = optimizer.optimize(lambda x: objective(neuronios, act_h), iters=5)"
   ]
  },
  {
   "cell_type": "code",
   "execution_count": null,
   "metadata": {},
   "outputs": [],
   "source": [
    "print(xopt)"
   ]
  }
 ],
 "metadata": {
  "kernelspec": {
   "display_name": "Python 3",
   "language": "python",
   "name": "python3"
  },
  "language_info": {
   "codemirror_mode": {
    "name": "ipython",
    "version": 3
   },
   "file_extension": ".py",
   "mimetype": "text/x-python",
   "name": "python",
   "nbconvert_exporter": "python",
   "pygments_lexer": "ipython3",
   "version": "3.10.8"
  },
  "orig_nbformat": 4,
  "vscode": {
   "interpreter": {
    "hash": "e7370f93d1d0cde622a1f8e1c04877d8463912d04d973331ad4851f04de6915a"
   }
  }
 },
 "nbformat": 4,
 "nbformat_minor": 2
}
