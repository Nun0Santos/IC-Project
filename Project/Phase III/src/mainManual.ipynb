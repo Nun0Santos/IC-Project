{
 "cells": [
  {
   "cell_type": "code",
   "execution_count": 43,
   "metadata": {},
   "outputs": [
    {
     "name": "stdout",
     "output_type": "stream",
     "text": [
      "2.11.0\n"
     ]
    },
    {
     "data": {
      "text/html": [
       "<div>\n",
       "<style scoped>\n",
       "    .dataframe tbody tr th:only-of-type {\n",
       "        vertical-align: middle;\n",
       "    }\n",
       "\n",
       "    .dataframe tbody tr th {\n",
       "        vertical-align: top;\n",
       "    }\n",
       "\n",
       "    .dataframe thead th {\n",
       "        text-align: right;\n",
       "    }\n",
       "</style>\n",
       "<table border=\"1\" class=\"dataframe\">\n",
       "  <thead>\n",
       "    <tr style=\"text-align: right;\">\n",
       "      <th></th>\n",
       "      <th>Open Time</th>\n",
       "      <th>Open</th>\n",
       "      <th>High</th>\n",
       "      <th>Low</th>\n",
       "      <th>Close</th>\n",
       "      <th>Close Volume</th>\n",
       "      <th>Time</th>\n",
       "      <th>Quote asset volume</th>\n",
       "      <th>Number of trades</th>\n",
       "      <th>Taker buy base asset volume</th>\n",
       "      <th>Taker buy quote asset volume</th>\n",
       "    </tr>\n",
       "  </thead>\n",
       "  <tbody>\n",
       "    <tr>\n",
       "      <th>188312</th>\n",
       "      <td>1.620794e+12</td>\n",
       "      <td>57517.42</td>\n",
       "      <td>57526.28</td>\n",
       "      <td>57485.00</td>\n",
       "      <td>57485.07</td>\n",
       "      <td>42.575735</td>\n",
       "      <td>1.620794e+12</td>\n",
       "      <td>2.448258e+06</td>\n",
       "      <td>1195.0</td>\n",
       "      <td>15.319691</td>\n",
       "      <td>880913.090845</td>\n",
       "    </tr>\n",
       "    <tr>\n",
       "      <th>188313</th>\n",
       "      <td>1.620794e+12</td>\n",
       "      <td>57485.07</td>\n",
       "      <td>57496.42</td>\n",
       "      <td>57466.75</td>\n",
       "      <td>57481.49</td>\n",
       "      <td>34.205467</td>\n",
       "      <td>1.620794e+12</td>\n",
       "      <td>1.966194e+06</td>\n",
       "      <td>1096.0</td>\n",
       "      <td>15.971891</td>\n",
       "      <td>918058.816162</td>\n",
       "    </tr>\n",
       "    <tr>\n",
       "      <th>188314</th>\n",
       "      <td>1.620794e+12</td>\n",
       "      <td>57477.18</td>\n",
       "      <td>57509.99</td>\n",
       "      <td>57458.18</td>\n",
       "      <td>57470.00</td>\n",
       "      <td>30.211789</td>\n",
       "      <td>1.620794e+12</td>\n",
       "      <td>1.736514e+06</td>\n",
       "      <td>955.0</td>\n",
       "      <td>13.054229</td>\n",
       "      <td>750364.577319</td>\n",
       "    </tr>\n",
       "    <tr>\n",
       "      <th>188315</th>\n",
       "      <td>1.620794e+12</td>\n",
       "      <td>57470.00</td>\n",
       "      <td>57470.01</td>\n",
       "      <td>57400.00</td>\n",
       "      <td>57450.90</td>\n",
       "      <td>45.354728</td>\n",
       "      <td>1.620794e+12</td>\n",
       "      <td>2.605080e+06</td>\n",
       "      <td>1559.0</td>\n",
       "      <td>12.615628</td>\n",
       "      <td>724559.233035</td>\n",
       "    </tr>\n",
       "    <tr>\n",
       "      <th>188316</th>\n",
       "      <td>1.620794e+12</td>\n",
       "      <td>57450.89</td>\n",
       "      <td>57475.66</td>\n",
       "      <td>57435.51</td>\n",
       "      <td>57450.19</td>\n",
       "      <td>14.168318</td>\n",
       "      <td>1.620794e+12</td>\n",
       "      <td>8.140594e+05</td>\n",
       "      <td>730.0</td>\n",
       "      <td>7.247751</td>\n",
       "      <td>416412.022206</td>\n",
       "    </tr>\n",
       "  </tbody>\n",
       "</table>\n",
       "</div>"
      ],
      "text/plain": [
       "           Open Time      Open      High       Low     Close  Close Volume  \\\n",
       "188312  1.620794e+12  57517.42  57526.28  57485.00  57485.07     42.575735   \n",
       "188313  1.620794e+12  57485.07  57496.42  57466.75  57481.49     34.205467   \n",
       "188314  1.620794e+12  57477.18  57509.99  57458.18  57470.00     30.211789   \n",
       "188315  1.620794e+12  57470.00  57470.01  57400.00  57450.90     45.354728   \n",
       "188316  1.620794e+12  57450.89  57475.66  57435.51  57450.19     14.168318   \n",
       "\n",
       "                Time  Quote asset volume  Number of trades  \\\n",
       "188312  1.620794e+12        2.448258e+06            1195.0   \n",
       "188313  1.620794e+12        1.966194e+06            1096.0   \n",
       "188314  1.620794e+12        1.736514e+06             955.0   \n",
       "188315  1.620794e+12        2.605080e+06            1559.0   \n",
       "188316  1.620794e+12        8.140594e+05             730.0   \n",
       "\n",
       "        Taker buy base asset volume  Taker buy quote asset volume  \n",
       "188312                    15.319691                 880913.090845  \n",
       "188313                    15.971891                 918058.816162  \n",
       "188314                    13.054229                 750364.577319  \n",
       "188315                    12.615628                 724559.233035  \n",
       "188316                     7.247751                 416412.022206  "
      ]
     },
     "execution_count": 43,
     "metadata": {},
     "output_type": "execute_result"
    }
   ],
   "source": [
    "# Import libraries and modules\n",
    "import csv  # for reading and writing CSV files\n",
    "import matplotlib.pyplot as plt  # for creating plots and charts\n",
    "import numpy as np  # for numerical computing with Python\n",
    "import pandas as pd  # for data manipulation and analysis\n",
    "import pathlib  # for interacting with file paths in a cross-platform manner\n",
    "import tensorflow as tf  # for machine learning and deep learning\n",
    "from keras.layers import Dense, Activation  # for building deep learning models in TensorFlow\n",
    "from keras.models import Sequential  # for building deep learning models in TensorFlow\n",
    "from keras.optimizers import Adam, RMSprop  # for building deep learning models in TensorFlow\n",
    "from keras.callbacks import History\n",
    "from sklearn.model_selection import train_test_split  # for model selection and evaluation\n",
    "from sklearn.preprocessing import MinMaxScaler  # for preprocessing data\n",
    "from tensorflow import keras  # for building deep learning models in TensorFlow\n",
    "from tensorflow.keras import layers  # for building deep learning models in TensorFlow\n",
    "\n",
    "\n",
    "# Print TensorFlow version\n",
    "print(tf.__version__)\n",
    "\n",
    "# Define column names for the CSV file\n",
    "column_names = ['Open Time','Open','High','Low','Close',\n",
    "                'Close Volume', 'Time', 'Quote asset volume',\n",
    "               'Number of trades', 'Taker buy base asset volume', 'Taker buy quote asset volume']\n",
    "               \n",
    "\n",
    "# Read in the CSV file using pandas\n",
    "raw_dataset = pd.read_csv(\"main.csv\", names=column_names,\n",
    "                      na_values = \"?\", comment='\\t', dtype='float',\n",
    "                      sep=\",\", skipinitialspace=True)\n",
    "\n",
    "# Copy the data from the raw dataset to a new dataframe\n",
    "dataset = raw_dataset.copy()\n",
    "\n",
    "# Print the last few rows of the dataset\n",
    "dataset.tail()\n"
   ]
  },
  {
   "cell_type": "code",
   "execution_count": 44,
   "metadata": {},
   "outputs": [],
   "source": [
    "dataset.pop(\"Open Time\")\n",
    "dataset.pop(\"Time\")\n",
    "# Randomly select 80% of the rows from the dataset and store them in a new dataframe\n",
    "train_dataset = dataset.sample(frac=0.8,random_state=0)\n",
    "\n",
    "# Remove the rows in the training dataset from the original dataset, leaving the remaining rows in a new dataframe\n",
    "test_dataset = dataset.drop(train_dataset.index)\n"
   ]
  },
  {
   "cell_type": "code",
   "execution_count": 45,
   "metadata": {},
   "outputs": [],
   "source": [
    "# Calculate statistical summary of the training dataset\n",
    "train_stats = train_dataset.describe()\n",
    "\n",
    "# Remove the \"Close\" column from the statistical summary\n",
    "train_stats.pop(\"Close\")\n",
    "\n",
    "# Transpose the statistical summary so that it's in a more useful shape\n",
    "train_stats = train_stats.transpose()"
   ]
  },
  {
   "cell_type": "code",
   "execution_count": 46,
   "metadata": {},
   "outputs": [],
   "source": [
    "# Remove the \"Close\" column from the training dataset and store it in a new dataframe\n",
    "train_labels = train_dataset.pop('Close')\n",
    "\n",
    "# Remove the \"Close\" column from the testing dataset and store it in a new dataframe\n",
    "test_labels = test_dataset.pop('Close')"
   ]
  },
  {
   "cell_type": "code",
   "execution_count": 47,
   "metadata": {},
   "outputs": [],
   "source": [
    "scaler = MinMaxScaler(feature_range=(0, 1))\n",
    "scaler.fit(train_dataset)\n",
    "normed_train_dataset = scaler.transform(train_dataset)\n",
    "normed_test_dataset = scaler.transform(test_dataset)"
   ]
  },
  {
   "cell_type": "code",
   "execution_count": 48,
   "metadata": {},
   "outputs": [
    {
     "name": "stdout",
     "output_type": "stream",
     "text": [
      "(150654, 8)\n",
      "(150654,)\n"
     ]
    }
   ],
   "source": [
    "print(normed_train_dataset.shape)\n",
    "print(train_labels.shape)"
   ]
  },
  {
   "cell_type": "code",
   "execution_count": 49,
   "metadata": {},
   "outputs": [
    {
     "name": "stdout",
     "output_type": "stream",
     "text": [
      "54176     38273.80\n",
      "22054     36653.35\n",
      "25894     36570.67\n",
      "3604      34482.99\n",
      "96019     50880.06\n",
      "            ...   \n",
      "58124     46408.25\n",
      "114876    57751.49\n",
      "89163     51009.62\n",
      "155465    56929.00\n",
      "90475     48084.80\n",
      "Name: Close, Length: 150654, dtype: float64\n"
     ]
    }
   ],
   "source": [
    "print(train_labels)"
   ]
  },
  {
   "cell_type": "code",
   "execution_count": 50,
   "metadata": {},
   "outputs": [],
   "source": [
    "#=============== Parte Manual ===============#\n",
    "neuronios = 32\n",
    "act_h = \"tanh\"\n",
    "act_out = \"linear\"\n",
    "learnr = 0.001\n",
    "camadas = 4\n",
    "epochs_n = 30\n",
    "\n",
    "# Set up neural network model\n",
    "model = keras.Sequential([\n",
    "    layers.Dense(neuronios, activation=act_h, input_shape=[8]),\n",
    "    layers.Dense(neuronios, activation=act_h),\n",
    "    layers.Dense(neuronios, activation=act_h),\n",
    "    layers.Dense(neuronios, activation=act_h),\n",
    "    #layers.Dense(neuronios, activation=act_h),\n",
    "    #layers.Dense(neuronios, activation=act_h),\n",
    "    layers.Dense(1,activation=act_h)\n",
    "  ])\n",
    "\n",
    "# Compile model\n",
    "optimizer = Adam(learnr)\n",
    "\n",
    "model.compile(loss='mse',optimizer=optimizer,metrics=['mae', 'mse'])"
   ]
  },
  {
   "cell_type": "code",
   "execution_count": 51,
   "metadata": {},
   "outputs": [
    {
     "name": "stdout",
     "output_type": "stream",
     "text": [
      "Model: \"sequential_3\"\n",
      "_________________________________________________________________\n",
      " Layer (type)                Output Shape              Param #   \n",
      "=================================================================\n",
      " dense_15 (Dense)            (None, 32)                288       \n",
      "                                                                 \n",
      " dense_16 (Dense)            (None, 32)                1056      \n",
      "                                                                 \n",
      " dense_17 (Dense)            (None, 32)                1056      \n",
      "                                                                 \n",
      " dense_18 (Dense)            (None, 32)                1056      \n",
      "                                                                 \n",
      " dense_19 (Dense)            (None, 1)                 33        \n",
      "                                                                 \n",
      "=================================================================\n",
      "Total params: 3,489\n",
      "Trainable params: 3,489\n",
      "Non-trainable params: 0\n",
      "_________________________________________________________________\n"
     ]
    }
   ],
   "source": [
    "model.summary()"
   ]
  },
  {
   "cell_type": "code",
   "execution_count": 52,
   "metadata": {},
   "outputs": [
    {
     "name": "stdout",
     "output_type": "stream",
     "text": [
      "1/1 [==============================] - 0s 79ms/step\n"
     ]
    },
    {
     "data": {
      "text/plain": [
       "array([[ 0.02181009],\n",
       "       [ 0.02499402],\n",
       "       [ 0.0282113 ],\n",
       "       [ 0.00690017],\n",
       "       [ 0.10345761],\n",
       "       [-0.0118586 ],\n",
       "       [ 0.09251417],\n",
       "       [-0.01232302]], dtype=float32)"
      ]
     },
     "execution_count": 52,
     "metadata": {},
     "output_type": "execute_result"
    }
   ],
   "source": [
    "example_batch = normed_train_dataset[:8]\n",
    "example_result = model.predict(example_batch)\n",
    "example_result"
   ]
  },
  {
   "cell_type": "code",
   "execution_count": 53,
   "metadata": {},
   "outputs": [
    {
     "name": "stdout",
     "output_type": "stream",
     "text": [
      "Epoch 1/30\n",
      "30131/30131 - 65s - loss: 2480289792.0000 - mae: 48820.0078 - mse: 2480289792.0000 - 65s/epoch - 2ms/step\n",
      "Epoch 2/30\n",
      "30131/30131 - 64s - loss: 2480295680.0000 - mae: 48819.8242 - mse: 2480295680.0000 - 64s/epoch - 2ms/step\n",
      "Epoch 3/30\n",
      "30131/30131 - 64s - loss: 2480293376.0000 - mae: 48819.8477 - mse: 2480293376.0000 - 64s/epoch - 2ms/step\n",
      "Epoch 4/30\n",
      "30131/30131 - 64s - loss: 2480290560.0000 - mae: 48820.0078 - mse: 2480290560.0000 - 64s/epoch - 2ms/step\n",
      "Epoch 5/30\n",
      "30131/30131 - 65s - loss: 2480298752.0000 - mae: 48819.6641 - mse: 2480298752.0000 - 65s/epoch - 2ms/step\n",
      "Epoch 6/30\n",
      "30131/30131 - 64s - loss: 2480292864.0000 - mae: 48819.8359 - mse: 2480292864.0000 - 64s/epoch - 2ms/step\n",
      "Epoch 7/30\n",
      "30131/30131 - 62s - loss: 2480304128.0000 - mae: 48819.8203 - mse: 2480304128.0000 - 62s/epoch - 2ms/step\n",
      "Epoch 8/30\n",
      "30131/30131 - 62s - loss: 2480297472.0000 - mae: 48819.8008 - mse: 2480297472.0000 - 62s/epoch - 2ms/step\n",
      "Epoch 9/30\n",
      "30131/30131 - 62s - loss: 2480292608.0000 - mae: 48819.8633 - mse: 2480292608.0000 - 62s/epoch - 2ms/step\n",
      "Epoch 10/30\n",
      "30131/30131 - 62s - loss: 2480299008.0000 - mae: 48819.8398 - mse: 2480299008.0000 - 62s/epoch - 2ms/step\n",
      "Epoch 11/30\n",
      "30131/30131 - 62s - loss: 2480309760.0000 - mae: 48819.6875 - mse: 2480309504.0000 - 62s/epoch - 2ms/step\n",
      "Epoch 12/30\n",
      "30131/30131 - 62s - loss: 2480297984.0000 - mae: 48819.9414 - mse: 2480297984.0000 - 62s/epoch - 2ms/step\n",
      "Epoch 13/30\n",
      "30131/30131 - 62s - loss: 2480300288.0000 - mae: 48819.8516 - mse: 2480300288.0000 - 62s/epoch - 2ms/step\n",
      "Epoch 14/30\n",
      "30131/30131 - 62s - loss: 2480291584.0000 - mae: 48819.9102 - mse: 2480291584.0000 - 62s/epoch - 2ms/step\n",
      "Epoch 15/30\n",
      "30131/30131 - 62s - loss: 2480294400.0000 - mae: 48819.7734 - mse: 2480294656.0000 - 62s/epoch - 2ms/step\n",
      "Epoch 16/30\n",
      "30131/30131 - 62s - loss: 2480294144.0000 - mae: 48819.7109 - mse: 2480294144.0000 - 62s/epoch - 2ms/step\n",
      "Epoch 17/30\n",
      "30131/30131 - 62s - loss: 2480297472.0000 - mae: 48819.7852 - mse: 2480297472.0000 - 62s/epoch - 2ms/step\n",
      "Epoch 18/30\n",
      "30131/30131 - 62s - loss: 2480291584.0000 - mae: 48819.9062 - mse: 2480291584.0000 - 62s/epoch - 2ms/step\n",
      "Epoch 19/30\n",
      "30131/30131 - 62s - loss: 2480294144.0000 - mae: 48819.5859 - mse: 2480294144.0000 - 62s/epoch - 2ms/step\n",
      "Epoch 20/30\n",
      "30131/30131 - 62s - loss: 2480287488.0000 - mae: 48819.8398 - mse: 2480287488.0000 - 62s/epoch - 2ms/step\n",
      "Epoch 21/30\n",
      "30131/30131 - 62s - loss: 2480295424.0000 - mae: 48819.9531 - mse: 2480295424.0000 - 62s/epoch - 2ms/step\n",
      "Epoch 22/30\n",
      "30131/30131 - 62s - loss: 2480295936.0000 - mae: 48819.9648 - mse: 2480295936.0000 - 62s/epoch - 2ms/step\n",
      "Epoch 23/30\n",
      "30131/30131 - 62s - loss: 2480299264.0000 - mae: 48819.8750 - mse: 2480299264.0000 - 62s/epoch - 2ms/step\n",
      "Epoch 24/30\n",
      "30131/30131 - 63s - loss: 2480285440.0000 - mae: 48819.7969 - mse: 2480285440.0000 - 63s/epoch - 2ms/step\n",
      "Epoch 25/30\n",
      "30131/30131 - 63s - loss: 2480290816.0000 - mae: 48819.8164 - mse: 2480290816.0000 - 63s/epoch - 2ms/step\n",
      "Epoch 26/30\n",
      "30131/30131 - 62s - loss: 2480288768.0000 - mae: 48819.9180 - mse: 2480288768.0000 - 62s/epoch - 2ms/step\n",
      "Epoch 27/30\n",
      "30131/30131 - 62s - loss: 2480294144.0000 - mae: 48819.8008 - mse: 2480294144.0000 - 62s/epoch - 2ms/step\n",
      "Epoch 28/30\n",
      "30131/30131 - 62s - loss: 2480303104.0000 - mae: 48820.0586 - mse: 2480303104.0000 - 62s/epoch - 2ms/step\n",
      "Epoch 29/30\n",
      "30131/30131 - 63s - loss: 2480297984.0000 - mae: 48819.7383 - mse: 2480297984.0000 - 63s/epoch - 2ms/step\n",
      "Epoch 30/30\n",
      "30131/30131 - 63s - loss: 2480299008.0000 - mae: 48820.0312 - mse: 2480299008.0000 - 63s/epoch - 2ms/step\n"
     ]
    },
    {
     "data": {
      "text/plain": [
       "<keras.callbacks.History at 0x7f8c15c54280>"
      ]
     },
     "execution_count": 53,
     "metadata": {},
     "output_type": "execute_result"
    }
   ],
   "source": [
    "# Set up callbacks\n",
    "history = History()\n",
    "\n",
    "# Train model\n",
    "model.fit(normed_train_dataset, train_labels, verbose=2, batch_size=5, epochs= epochs_n, callbacks=[history])"
   ]
  },
  {
   "cell_type": "code",
   "execution_count": 54,
   "metadata": {},
   "outputs": [
    {
     "name": "stdout",
     "output_type": "stream",
     "text": [
      "1177/1177 [==============================] - 3s 2ms/step - loss: 2473807104.0000 - mae: 48752.6680 - mse: 2473807104.0000\n",
      "Resultado [2473807104.0, 48752.66796875, 2473807104.0]\n",
      "Average loss: 2480295432.5333333\n"
     ]
    }
   ],
   "source": [
    "# Evaluate model\n",
    "results = model.evaluate(normed_test_dataset, test_labels)\n",
    "print(\"Resultado\",results)\n",
    "\n",
    "# Print average loss over all epochs\n",
    "print(\"Average loss:\", np.mean(history.history['mse']))"
   ]
  },
  {
   "cell_type": "code",
   "execution_count": 55,
   "metadata": {},
   "outputs": [
    {
     "name": "stdout",
     "output_type": "stream",
     "text": [
      "1177/1177 [==============================] - 2s 1ms/step\n",
      "[[1.]\n",
      " [1.]\n",
      " [1.]\n",
      " ...\n",
      " [1.]\n",
      " [1.]\n",
      " [1.]]\n"
     ]
    }
   ],
   "source": [
    "# predictions\n",
    "y_pred = model.predict(normed_test_dataset)\n",
    "print(y_pred)"
   ]
  },
  {
   "cell_type": "code",
   "execution_count": 56,
   "metadata": {},
   "outputs": [
    {
     "name": "stdout",
     "output_type": "stream",
     "text": [
      "INFO:tensorflow:Assets written to: modelmanual_c4_n32_actntanh_actolinear_lr0.001_lossmae_ep30/assets\n"
     ]
    }
   ],
   "source": [
    "filename = 'modelmanual_c'+ str(camadas) +'_n'+ str(neuronios) +'_actn'+str(act_h) +'_acto'+str(act_out) +'_lr' + str(learnr) + '_lossmae' +'_ep' + str(epochs_n)\n",
    "model.save(filename, save_format='tf')"
   ]
  }
 ],
 "metadata": {
  "kernelspec": {
   "display_name": "Python 3",
   "language": "python",
   "name": "python3"
  },
  "language_info": {
   "codemirror_mode": {
    "name": "ipython",
    "version": 3
   },
   "file_extension": ".py",
   "mimetype": "text/x-python",
   "name": "python",
   "nbconvert_exporter": "python",
   "pygments_lexer": "ipython3",
   "version": "3.10.8"
  },
  "orig_nbformat": 4,
  "vscode": {
   "interpreter": {
    "hash": "e7370f93d1d0cde622a1f8e1c04877d8463912d04d973331ad4851f04de6915a"
   }
  }
 },
 "nbformat": 4,
 "nbformat_minor": 2
}
