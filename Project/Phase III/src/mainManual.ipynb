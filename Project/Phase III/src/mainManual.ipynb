{
 "cells": [
  {
   "cell_type": "code",
   "execution_count": 30,
   "metadata": {},
   "outputs": [
    {
     "name": "stdout",
     "output_type": "stream",
     "text": [
      "2.11.0\n"
     ]
    },
    {
     "data": {
      "text/html": [
       "<div>\n",
       "<style scoped>\n",
       "    .dataframe tbody tr th:only-of-type {\n",
       "        vertical-align: middle;\n",
       "    }\n",
       "\n",
       "    .dataframe tbody tr th {\n",
       "        vertical-align: top;\n",
       "    }\n",
       "\n",
       "    .dataframe thead th {\n",
       "        text-align: right;\n",
       "    }\n",
       "</style>\n",
       "<table border=\"1\" class=\"dataframe\">\n",
       "  <thead>\n",
       "    <tr style=\"text-align: right;\">\n",
       "      <th></th>\n",
       "      <th>Open Time</th>\n",
       "      <th>Open</th>\n",
       "      <th>High</th>\n",
       "      <th>Low</th>\n",
       "      <th>Close</th>\n",
       "      <th>Close Volume</th>\n",
       "      <th>Time</th>\n",
       "      <th>Quote asset volume</th>\n",
       "      <th>Number of trades</th>\n",
       "      <th>Taker buy base asset volume</th>\n",
       "      <th>Taker buy quote asset volume</th>\n",
       "    </tr>\n",
       "  </thead>\n",
       "  <tbody>\n",
       "    <tr>\n",
       "      <th>188312</th>\n",
       "      <td>1.620794e+12</td>\n",
       "      <td>57517.42</td>\n",
       "      <td>57526.28</td>\n",
       "      <td>57485.00</td>\n",
       "      <td>57485.07</td>\n",
       "      <td>42.575735</td>\n",
       "      <td>1.620794e+12</td>\n",
       "      <td>2.448258e+06</td>\n",
       "      <td>1195.0</td>\n",
       "      <td>15.319691</td>\n",
       "      <td>880913.090845</td>\n",
       "    </tr>\n",
       "    <tr>\n",
       "      <th>188313</th>\n",
       "      <td>1.620794e+12</td>\n",
       "      <td>57485.07</td>\n",
       "      <td>57496.42</td>\n",
       "      <td>57466.75</td>\n",
       "      <td>57481.49</td>\n",
       "      <td>34.205467</td>\n",
       "      <td>1.620794e+12</td>\n",
       "      <td>1.966194e+06</td>\n",
       "      <td>1096.0</td>\n",
       "      <td>15.971891</td>\n",
       "      <td>918058.816162</td>\n",
       "    </tr>\n",
       "    <tr>\n",
       "      <th>188314</th>\n",
       "      <td>1.620794e+12</td>\n",
       "      <td>57477.18</td>\n",
       "      <td>57509.99</td>\n",
       "      <td>57458.18</td>\n",
       "      <td>57470.00</td>\n",
       "      <td>30.211789</td>\n",
       "      <td>1.620794e+12</td>\n",
       "      <td>1.736514e+06</td>\n",
       "      <td>955.0</td>\n",
       "      <td>13.054229</td>\n",
       "      <td>750364.577319</td>\n",
       "    </tr>\n",
       "    <tr>\n",
       "      <th>188315</th>\n",
       "      <td>1.620794e+12</td>\n",
       "      <td>57470.00</td>\n",
       "      <td>57470.01</td>\n",
       "      <td>57400.00</td>\n",
       "      <td>57450.90</td>\n",
       "      <td>45.354728</td>\n",
       "      <td>1.620794e+12</td>\n",
       "      <td>2.605080e+06</td>\n",
       "      <td>1559.0</td>\n",
       "      <td>12.615628</td>\n",
       "      <td>724559.233035</td>\n",
       "    </tr>\n",
       "    <tr>\n",
       "      <th>188316</th>\n",
       "      <td>1.620794e+12</td>\n",
       "      <td>57450.89</td>\n",
       "      <td>57475.66</td>\n",
       "      <td>57435.51</td>\n",
       "      <td>57450.19</td>\n",
       "      <td>14.168318</td>\n",
       "      <td>1.620794e+12</td>\n",
       "      <td>8.140594e+05</td>\n",
       "      <td>730.0</td>\n",
       "      <td>7.247751</td>\n",
       "      <td>416412.022206</td>\n",
       "    </tr>\n",
       "  </tbody>\n",
       "</table>\n",
       "</div>"
      ],
      "text/plain": [
       "           Open Time      Open      High       Low     Close  Close Volume  \\\n",
       "188312  1.620794e+12  57517.42  57526.28  57485.00  57485.07     42.575735   \n",
       "188313  1.620794e+12  57485.07  57496.42  57466.75  57481.49     34.205467   \n",
       "188314  1.620794e+12  57477.18  57509.99  57458.18  57470.00     30.211789   \n",
       "188315  1.620794e+12  57470.00  57470.01  57400.00  57450.90     45.354728   \n",
       "188316  1.620794e+12  57450.89  57475.66  57435.51  57450.19     14.168318   \n",
       "\n",
       "                Time  Quote asset volume  Number of trades  \\\n",
       "188312  1.620794e+12        2.448258e+06            1195.0   \n",
       "188313  1.620794e+12        1.966194e+06            1096.0   \n",
       "188314  1.620794e+12        1.736514e+06             955.0   \n",
       "188315  1.620794e+12        2.605080e+06            1559.0   \n",
       "188316  1.620794e+12        8.140594e+05             730.0   \n",
       "\n",
       "        Taker buy base asset volume  Taker buy quote asset volume  \n",
       "188312                    15.319691                 880913.090845  \n",
       "188313                    15.971891                 918058.816162  \n",
       "188314                    13.054229                 750364.577319  \n",
       "188315                    12.615628                 724559.233035  \n",
       "188316                     7.247751                 416412.022206  "
      ]
     },
     "execution_count": 30,
     "metadata": {},
     "output_type": "execute_result"
    }
   ],
   "source": [
    "# Import libraries and modules\n",
    "import csv  # for reading and writing CSV files\n",
    "import matplotlib.pyplot as plt  # for creating plots and charts\n",
    "import numpy as np  # for numerical computing with Python\n",
    "import pandas as pd  # for data manipulation and analysis\n",
    "import pathlib  # for interacting with file paths in a cross-platform manner\n",
    "import tensorflow as tf  # for machine learning and deep learning\n",
    "from keras.layers import Dense, Activation  # for building deep learning models in TensorFlow\n",
    "from keras.models import Sequential  # for building deep learning models in TensorFlow\n",
    "from keras.optimizers import Adam, RMSprop  # for building deep learning models in TensorFlow\n",
    "from keras.callbacks import History\n",
    "from sklearn.model_selection import train_test_split  # for model selection and evaluation\n",
    "from sklearn.preprocessing import MinMaxScaler  # for preprocessing data\n",
    "from tensorflow import keras  # for building deep learning models in TensorFlow\n",
    "from tensorflow.keras import layers  # for building deep learning models in TensorFlow\n",
    "from keras.layers import Conv1D, MaxPooling1D\n",
    "\n",
    "\n",
    "# Print TensorFlow version\n",
    "print(tf.__version__)\n",
    "\n",
    "# Define column names for the CSV file\n",
    "column_names = ['Open Time','Open','High','Low','Close',\n",
    "                'Close Volume', 'Time', 'Quote asset volume',\n",
    "               'Number of trades', 'Taker buy base asset volume', 'Taker buy quote asset volume']\n",
    "               \n",
    "\n",
    "# Read in the CSV file using pandas\n",
    "raw_dataset = pd.read_csv(\"main.csv\", names=column_names,\n",
    "                      na_values = \"?\", comment='\\t', dtype='float',\n",
    "                      sep=\",\", skipinitialspace=True)\n",
    "\n",
    "# Copy the data from the raw dataset to a new dataframe\n",
    "dataset = raw_dataset.copy()\n",
    "\n",
    "# Print the last few rows of the dataset\n",
    "dataset.tail()\n"
   ]
  },
  {
   "cell_type": "code",
   "execution_count": 31,
   "metadata": {},
   "outputs": [],
   "source": [
    "dataset.pop(\"Open Time\")\n",
    "dataset.pop(\"Time\")\n",
    "# Randomly select 80% of the rows from the dataset and store them in a new dataframe\n",
    "train_dataset = dataset.sample(frac=0.8,random_state=0)\n",
    "\n",
    "# Remove the rows in the training dataset from the original dataset, leaving the remaining rows in a new dataframe\n",
    "test_dataset = dataset.drop(train_dataset.index)\n"
   ]
  },
  {
   "cell_type": "code",
   "execution_count": 32,
   "metadata": {},
   "outputs": [],
   "source": [
    "# Calculate statistical summary of the training dataset\n",
    "train_stats = train_dataset.describe()\n",
    "\n",
    "# Remove the \"Close\" column from the statistical summary\n",
    "train_stats.pop(\"Close\")\n",
    "\n",
    "# Transpose the statistical summary so that it's in a more useful shape\n",
    "train_stats = train_stats.transpose()"
   ]
  },
  {
   "cell_type": "code",
   "execution_count": 33,
   "metadata": {},
   "outputs": [],
   "source": [
    "# Remove the \"Close\" column from the training dataset and store it in a new dataframe\n",
    "train_labels = train_dataset.pop('Close')\n",
    "\n",
    "# Remove the \"Close\" column from the testing dataset and store it in a new dataframe\n",
    "test_labels = test_dataset.pop('Close')"
   ]
  },
  {
   "cell_type": "code",
   "execution_count": 34,
   "metadata": {},
   "outputs": [],
   "source": [
    "scaler = MinMaxScaler(feature_range=(0, 1))\n",
    "scaler.fit(train_dataset)\n",
    "normed_train_dataset = scaler.transform(train_dataset)\n",
    "normed_test_dataset = scaler.transform(test_dataset)"
   ]
  },
  {
   "cell_type": "code",
   "execution_count": 35,
   "metadata": {},
   "outputs": [
    {
     "name": "stdout",
     "output_type": "stream",
     "text": [
      "(150654, 8)\n",
      "(150654,)\n"
     ]
    }
   ],
   "source": [
    "print(normed_train_dataset.shape)\n",
    "print(train_labels.shape)"
   ]
  },
  {
   "cell_type": "code",
   "execution_count": 36,
   "metadata": {},
   "outputs": [
    {
     "name": "stdout",
     "output_type": "stream",
     "text": [
      "54176     38273.80\n",
      "22054     36653.35\n",
      "25894     36570.67\n",
      "3604      34482.99\n",
      "96019     50880.06\n",
      "            ...   \n",
      "58124     46408.25\n",
      "114876    57751.49\n",
      "89163     51009.62\n",
      "155465    56929.00\n",
      "90475     48084.80\n",
      "Name: Close, Length: 150654, dtype: float64\n"
     ]
    }
   ],
   "source": [
    "print(train_labels)"
   ]
  },
  {
   "cell_type": "code",
   "execution_count": 44,
   "metadata": {},
   "outputs": [],
   "source": [
    "#=============== Parte Manual ===============#\n",
    "neuronios = 32\n",
    "act_h = \"relu\"\n",
    "act_out = \"relu\"\n",
    "learnr = 0.0001\n",
    "camadas = 1\n",
    "epochs_n = 30\n",
    "\n",
    "# Set up neural network model\n",
    "\"\"\"\n",
    "model = keras.Sequential([\n",
    "    layers.Dense(neuronios, activation=act_h, input_shape=[8]),\n",
    "    layers.Dense(neuronios, activation=act_h),\n",
    "    layers.Dense(neuronios, activation=act_h),\n",
    "    layers.Dense(neuronios, activation=act_h),\n",
    "    #layers.Dense(neuronios, activation=act_h),\n",
    "    #layers.Dense(neuronios, activation=act_h),\n",
    "    layers.Dense(1,activation=act_out)\n",
    "  ])\n",
    "\"\"\"\n",
    "\n",
    "# Set up model\n",
    "model = Sequential()\n",
    "model.add(Conv1D(16, kernel_size=3, activation=act_h, input_shape=(8, 1)))\n",
    "model.add(MaxPooling1D(pool_size=2))\n",
    "model.add(layers.Flatten())\n",
    "model.add(Dense(1, activation=act_out))\n",
    "\n",
    "\n",
    "# Compile model\n",
    "optimizer = Adam(learnr)\n",
    "\n",
    "model.compile(loss='mse',optimizer=optimizer,metrics=['mae', 'mse'])"
   ]
  },
  {
   "cell_type": "code",
   "execution_count": 45,
   "metadata": {},
   "outputs": [
    {
     "name": "stdout",
     "output_type": "stream",
     "text": [
      "Model: \"sequential_4\"\n",
      "_________________________________________________________________\n",
      " Layer (type)                Output Shape              Param #   \n",
      "=================================================================\n",
      " conv1d_4 (Conv1D)           (None, 6, 16)             64        \n",
      "                                                                 \n",
      " max_pooling1d_4 (MaxPooling  (None, 3, 16)            0         \n",
      " 1D)                                                             \n",
      "                                                                 \n",
      " flatten_4 (Flatten)         (None, 48)                0         \n",
      "                                                                 \n",
      " dense_4 (Dense)             (None, 1)                 49        \n",
      "                                                                 \n",
      "=================================================================\n",
      "Total params: 113\n",
      "Trainable params: 113\n",
      "Non-trainable params: 0\n",
      "_________________________________________________________________\n"
     ]
    }
   ],
   "source": [
    "model.summary()"
   ]
  },
  {
   "cell_type": "code",
   "execution_count": 46,
   "metadata": {},
   "outputs": [
    {
     "name": "stdout",
     "output_type": "stream",
     "text": [
      "1/1 [==============================] - 0s 101ms/step\n"
     ]
    },
    {
     "data": {
      "text/plain": [
       "array([[0.11181228],\n",
       "       [0.09303237],\n",
       "       [0.09242538],\n",
       "       [0.07087596],\n",
       "       [0.24168521],\n",
       "       [0.04010854],\n",
       "       [0.22259389],\n",
       "       [0.07757533]], dtype=float32)"
      ]
     },
     "execution_count": 46,
     "metadata": {},
     "output_type": "execute_result"
    }
   ],
   "source": [
    "example_batch = normed_train_dataset[:8]\n",
    "example_result = model.predict(example_batch)\n",
    "example_result"
   ]
  },
  {
   "cell_type": "code",
   "execution_count": 47,
   "metadata": {},
   "outputs": [
    {
     "name": "stdout",
     "output_type": "stream",
     "text": [
      "Epoch 1/30\n",
      "30131/30131 - 81s - loss: 2454609920.0000 - mae: 48565.5859 - mse: 2454609920.0000 - 81s/epoch - 3ms/step\n",
      "Epoch 2/30\n",
      "30131/30131 - 79s - loss: 2323671552.0000 - mae: 47248.6211 - mse: 2323671552.0000 - 79s/epoch - 3ms/step\n",
      "Epoch 3/30\n",
      "30131/30131 - 72s - loss: 2086670080.0000 - mae: 44764.1172 - mse: 2086670080.0000 - 72s/epoch - 2ms/step\n",
      "Epoch 4/30\n",
      "30131/30131 - 72s - loss: 1762786688.0000 - mae: 41126.5820 - mse: 1762786688.0000 - 72s/epoch - 2ms/step\n",
      "Epoch 5/30\n",
      "30131/30131 - 72s - loss: 1378658816.0000 - mae: 36344.5586 - mse: 1378658816.0000 - 72s/epoch - 2ms/step\n",
      "Epoch 6/30\n",
      "30131/30131 - 71s - loss: 969314560.0000 - mae: 30430.0430 - mse: 969314560.0000 - 71s/epoch - 2ms/step\n",
      "Epoch 7/30\n",
      "30131/30131 - 71s - loss: 577230144.0000 - mae: 23399.2871 - mse: 577230144.0000 - 71s/epoch - 2ms/step\n",
      "Epoch 8/30\n",
      "30131/30131 - 71s - loss: 252194752.0000 - mae: 15291.5127 - mse: 252194752.0000 - 71s/epoch - 2ms/step\n",
      "Epoch 9/30\n",
      "30131/30131 - 70s - loss: 50766828.0000 - mae: 6351.4727 - mse: 50766828.0000 - 70s/epoch - 2ms/step\n",
      "Epoch 10/30\n",
      "30131/30131 - 71s - loss: 2270029.5000 - mae: 931.3671 - mse: 2270029.5000 - 71s/epoch - 2ms/step\n",
      "Epoch 11/30\n",
      "30131/30131 - 71s - loss: 1933131.0000 - mae: 777.0246 - mse: 1933131.2500 - 71s/epoch - 2ms/step\n",
      "Epoch 12/30\n",
      "30131/30131 - 71s - loss: 1860233.7500 - mae: 762.7437 - mse: 1860233.7500 - 71s/epoch - 2ms/step\n",
      "Epoch 13/30\n",
      "30131/30131 - 71s - loss: 1799542.8750 - mae: 750.7888 - mse: 1799542.8750 - 71s/epoch - 2ms/step\n",
      "Epoch 14/30\n",
      "30131/30131 - 71s - loss: 1745453.7500 - mae: 740.2427 - mse: 1745453.7500 - 71s/epoch - 2ms/step\n",
      "Epoch 15/30\n",
      "30131/30131 - 71s - loss: 1695385.0000 - mae: 730.3256 - mse: 1695385.0000 - 71s/epoch - 2ms/step\n",
      "Epoch 16/30\n",
      "30131/30131 - 70s - loss: 1647058.8750 - mae: 719.1058 - mse: 1647058.8750 - 70s/epoch - 2ms/step\n",
      "Epoch 17/30\n",
      "30131/30131 - 70s - loss: 1600785.2500 - mae: 709.0518 - mse: 1600785.2500 - 70s/epoch - 2ms/step\n",
      "Epoch 18/30\n",
      "30131/30131 - 71s - loss: 1556092.2500 - mae: 699.1571 - mse: 1556092.2500 - 71s/epoch - 2ms/step\n",
      "Epoch 19/30\n",
      "30131/30131 - 70s - loss: 1512285.3750 - mae: 688.4102 - mse: 1512285.3750 - 70s/epoch - 2ms/step\n",
      "Epoch 20/30\n",
      "30131/30131 - 70s - loss: 1469894.1250 - mae: 678.4711 - mse: 1469894.0000 - 70s/epoch - 2ms/step\n",
      "Epoch 21/30\n",
      "30131/30131 - 70s - loss: 1428921.7500 - mae: 668.6678 - mse: 1428921.7500 - 70s/epoch - 2ms/step\n",
      "Epoch 22/30\n",
      "30131/30131 - 70s - loss: 1389855.3750 - mae: 658.6652 - mse: 1389855.3750 - 70s/epoch - 2ms/step\n",
      "Epoch 23/30\n",
      "30131/30131 - 70s - loss: 1350513.7500 - mae: 649.7177 - mse: 1350513.7500 - 70s/epoch - 2ms/step\n",
      "Epoch 24/30\n",
      "30131/30131 - 70s - loss: 1313680.3750 - mae: 639.6182 - mse: 1313680.3750 - 70s/epoch - 2ms/step\n",
      "Epoch 25/30\n",
      "30131/30131 - 70s - loss: 1277577.1250 - mae: 630.7012 - mse: 1277577.0000 - 70s/epoch - 2ms/step\n",
      "Epoch 26/30\n",
      "30131/30131 - 70s - loss: 1242471.2500 - mae: 621.1362 - mse: 1242471.2500 - 70s/epoch - 2ms/step\n",
      "Epoch 27/30\n",
      "30131/30131 - 70s - loss: 1208690.7500 - mae: 612.3939 - mse: 1208690.8750 - 70s/epoch - 2ms/step\n",
      "Epoch 28/30\n",
      "30131/30131 - 70s - loss: 1176200.2500 - mae: 603.6542 - mse: 1176200.2500 - 70s/epoch - 2ms/step\n",
      "Epoch 29/30\n",
      "30131/30131 - 70s - loss: 1143932.2500 - mae: 594.7027 - mse: 1143932.2500 - 70s/epoch - 2ms/step\n",
      "Epoch 30/30\n",
      "30131/30131 - 70s - loss: 1112909.0000 - mae: 586.2679 - mse: 1112909.0000 - 70s/epoch - 2ms/step\n"
     ]
    },
    {
     "data": {
      "text/plain": [
       "<keras.callbacks.History at 0x7ff077f2b760>"
      ]
     },
     "execution_count": 47,
     "metadata": {},
     "output_type": "execute_result"
    }
   ],
   "source": [
    "# Set up callbacks\n",
    "history = History()\n",
    "\n",
    "# Train model\n",
    "model.fit(normed_train_dataset, train_labels, verbose=2, batch_size=5, epochs= epochs_n, callbacks=[history])"
   ]
  },
  {
   "cell_type": "code",
   "execution_count": 48,
   "metadata": {},
   "outputs": [
    {
     "name": "stdout",
     "output_type": "stream",
     "text": [
      "1177/1177 [==============================] - 3s 3ms/step - loss: 1193603.2500 - mae: 598.3433 - mse: 1193603.2500\n",
      "Resultado [1193603.25, 598.34326171875, 1193603.25]\n",
      "Average loss: 396254599.4583333\n"
     ]
    }
   ],
   "source": [
    "# Evaluate model\n",
    "results = model.evaluate(normed_test_dataset, test_labels)\n",
    "print(\"Resultado\",results)\n",
    "\n",
    "# Print average loss over all epochs\n",
    "print(\"Average loss:\", np.mean(history.history['mse']))"
   ]
  },
  {
   "cell_type": "code",
   "execution_count": 42,
   "metadata": {},
   "outputs": [
    {
     "name": "stdout",
     "output_type": "stream",
     "text": [
      "1177/1177 [==============================] - 2s 2ms/step\n",
      "[[28556.988]\n",
      " [28391.906]\n",
      " [28474.03 ]\n",
      " ...\n",
      " [57386.54 ]\n",
      " [57249.434]\n",
      " [57224.504]]\n"
     ]
    }
   ],
   "source": [
    "# predictions\n",
    "y_pred = model.predict(normed_test_dataset)\n",
    "print(y_pred)"
   ]
  },
  {
   "cell_type": "code",
   "execution_count": 43,
   "metadata": {},
   "outputs": [
    {
     "name": "stderr",
     "output_type": "stream",
     "text": [
      "WARNING:absl:Found untraced functions such as _jit_compiled_convolution_op while saving (showing 1 of 1). These functions will not be directly callable after loading.\n"
     ]
    },
    {
     "name": "stdout",
     "output_type": "stream",
     "text": [
      "INFO:tensorflow:Assets written to: modelmanualcnn_c1_n32_actnrelu_actorelu_lr0.0001_lossmae_ep30/assets\n"
     ]
    },
    {
     "name": "stderr",
     "output_type": "stream",
     "text": [
      "INFO:tensorflow:Assets written to: modelmanualcnn_c1_n32_actnrelu_actorelu_lr0.0001_lossmae_ep30/assets\n"
     ]
    }
   ],
   "source": [
    "filename = 'modelmanualcnn_c'+ str(camadas) +'_n'+ str(neuronios) +'_actn'+str(act_h) +'_acto'+str(act_out) +'_lr' + str(learnr) + '_lossmae' +'_ep' + str(epochs_n)\n",
    "model.save(filename, save_format='tf')"
   ]
  }
 ],
 "metadata": {
  "kernelspec": {
   "display_name": "Python 3",
   "language": "python",
   "name": "python3"
  },
  "language_info": {
   "codemirror_mode": {
    "name": "ipython",
    "version": 3
   },
   "file_extension": ".py",
   "mimetype": "text/x-python",
   "name": "python",
   "nbconvert_exporter": "python",
   "pygments_lexer": "ipython3",
   "version": "3.10.8"
  },
  "orig_nbformat": 4,
  "vscode": {
   "interpreter": {
    "hash": "e7370f93d1d0cde622a1f8e1c04877d8463912d04d973331ad4851f04de6915a"
   }
  }
 },
 "nbformat": 4,
 "nbformat_minor": 2
}
